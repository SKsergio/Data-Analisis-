{
 "cells": [
  {
   "cell_type": "code",
   "execution_count": null,
   "id": "d88993ed-8fb4-4950-9564-8a1bdeb9752f",
   "metadata": {},
   "outputs": [],
   "source": []
  }
 ],
 "metadata": {
  "kernelspec": {
   "display_name": "",
   "name": ""
  },
  "language_info": {
   "name": ""
  }
 },
 "nbformat": 4,
 "nbformat_minor": 5
}
