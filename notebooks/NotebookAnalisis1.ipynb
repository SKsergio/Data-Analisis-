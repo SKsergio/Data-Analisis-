{
 "cells": [
  {
   "cell_type": "code",
   "execution_count": null,
   "id": "d88993ed-8fb4-4950-9564-8a1bdeb9752f",
   "metadata": {},
   "outputs": [
    {
     "ename": "ModuleNotFoundError",
     "evalue": "No module named 'query'",
     "output_type": "error",
     "traceback": [
      "\u001b[1;31m---------------------------------------------------------------------------\u001b[0m",
      "\u001b[1;31mModuleNotFoundError\u001b[0m                       Traceback (most recent call last)",
      "Cell \u001b[1;32mIn[9], line 2\u001b[0m\n\u001b[0;32m      1\u001b[0m \u001b[38;5;66;03m# Importa desde la carpeta 'queries'\u001b[39;00m\n\u001b[1;32m----> 2\u001b[0m \u001b[38;5;28;01mfrom\u001b[39;00m \u001b[38;5;21;01mquery\u001b[39;00m\u001b[38;5;21;01m.\u001b[39;00m\u001b[38;5;21;01mMovieDataQuery\u001b[39;00m \u001b[38;5;28;01mimport\u001b[39;00m MovieDataQuery\n\u001b[0;32m      5\u001b[0m \u001b[38;5;66;03m# Uso de la clase hija\u001b[39;00m\n\u001b[0;32m      6\u001b[0m movie_query \u001b[38;5;241m=\u001b[39m MovieDataQuery(\u001b[38;5;124m\"\u001b[39m\u001b[38;5;124mhttps://api.themoviedb.org/3/\u001b[39m\u001b[38;5;124m\"\u001b[39m, \u001b[38;5;124m\"\u001b[39m\u001b[38;5;124m56730a8114515a93bf2ec1a7448fcae0\u001b[39m\u001b[38;5;124m\"\u001b[39m)\n",
      "\u001b[1;31mModuleNotFoundError\u001b[0m: No module named 'query'"
     ]
    }
   ],
   "source": [
    "from query import MovieDataQuery  # Importa desde la carpeta 'queries'\n",
    "\n",
    "# Uso de la clase hija\n",
    "movie_query = MovieDataQuery(\"https://api.themoviedb.org/3/\", \"56730a8114515a93bf2ec1a7448fcae0\")\n",
    "print(movie_query.get_popular_movies())"
   ]
  },
  {
   "cell_type": "code",
   "execution_count": null,
   "id": "0272622e-d019-40b4-9c4b-41d1e3781f2c",
   "metadata": {},
   "outputs": [
    {
     "name": "stdout",
     "output_type": "stream",
     "text": [
      "hOLAAAAAA\n"
     ]
    }
   ],
   "source": [
    "print(\"hOLAAAAAA\")"
   ]
  }
 ],
 "metadata": {
  "kernelspec": {
   "display_name": "Python 3",
   "language": "python",
   "name": "python3"
  },
  "language_info": {
   "codemirror_mode": {
    "name": "ipython",
    "version": 3
   },
   "file_extension": ".py",
   "mimetype": "text/x-python",
   "name": "python",
   "nbconvert_exporter": "python",
   "pygments_lexer": "ipython3",
   "version": "3.12.5"
  }
 },
 "nbformat": 4,
 "nbformat_minor": 5
}
