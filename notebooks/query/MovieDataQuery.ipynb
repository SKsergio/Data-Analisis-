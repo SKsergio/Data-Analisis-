{
 "cells": [
  {
   "cell_type": "code",
   "execution_count": 1,
   "id": "17123112-5e79-4c7d-a8a9-7152b4d42fcc",
   "metadata": {},
   "outputs": [
    {
     "ename": "ModuleNotFoundError",
     "evalue": "No module named 'MainClassMovie'",
     "output_type": "error",
     "traceback": [
      "\u001b[1;31m---------------------------------------------------------------------------\u001b[0m",
      "\u001b[1;31mModuleNotFoundError\u001b[0m                       Traceback (most recent call last)",
      "Cell \u001b[1;32mIn[1], line 1\u001b[0m\n\u001b[1;32m----> 1\u001b[0m \u001b[38;5;28;01mfrom\u001b[39;00m \u001b[38;5;21;01mMainClassMovie\u001b[39;00m \u001b[38;5;28;01mimport\u001b[39;00m MainClassMovie\n\u001b[0;32m      3\u001b[0m \u001b[38;5;28;01mclass\u001b[39;00m \u001b[38;5;21;01mMovieDataQuery\u001b[39;00m(MainClassMovie):\n\u001b[0;32m      4\u001b[0m     \u001b[38;5;28;01mdef\u001b[39;00m \u001b[38;5;21m__init__\u001b[39m(\u001b[38;5;28mself\u001b[39m):\n",
      "\u001b[1;31mModuleNotFoundError\u001b[0m: No module named 'MainClassMovie'"
     ]
    }
   ],
   "source": [
    "from MainClassMovie import MainClassMovie\n",
    "\n",
    "class MovieDataQuery(MainClassMovie):\n",
    "    def __init__(self):\n",
    "        super().__init__()\n",
    "\n",
    "    def print_details(self):\n",
    "        # Accede a los atributos heredados de la clase padre\n",
    "        print(f\"URL Base: {self.getUrlBase()}\")\n",
    "        print(f\"API Key: {self.getKey()}\")\n",
    "\n",
    "# Uso de la clase hija\n",
    "movie_query = MovieDataQuery()\n",
    "movie_query.print_details()\n"
   ]
  }
 ],
 "metadata": {
  "kernelspec": {
   "display_name": "Python 3",
   "language": "python",
   "name": "python3"
  },
  "language_info": {
   "codemirror_mode": {
    "name": "ipython",
    "version": 3
   },
   "file_extension": ".py",
   "mimetype": "text/x-python",
   "name": "python",
   "nbconvert_exporter": "python",
   "pygments_lexer": "ipython3",
   "version": "3.12.5"
  }
 },
 "nbformat": 4,
 "nbformat_minor": 5
}
