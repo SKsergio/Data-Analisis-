{
 "cells": [
  {
   "cell_type": "code",
   "execution_count": null,
   "id": "17123112-5e79-4c7d-a8a9-7152b4d42fcc",
   "metadata": {},
   "outputs": [],
   "source": [
    "from query.MainCLassMovie import MainClassMovie\n",
    "\n",
    "class MovieDataQuery(MainClassMovie):\n",
    "    def __init__(self, url_base, API_key):\n",
    "        super().__init__(url_base, API_key)\n",
    "\n",
    "    def get_popular_movies(self):\n",
    "        url = f\"{self.url_base}movie/popular?api_key={self.API_key}&language=en-US&page=1\"\n",
    "        return f\"Trayendo data from: {url}\"\n"
   ]
  }
 ],
 "metadata": {
  "kernelspec": {
   "display_name": "Python 3 (ipykernel)",
   "language": "python",
   "name": "python3"
  },
  "language_info": {
   "codemirror_mode": {
    "name": "ipython",
    "version": 3
   },
   "file_extension": ".py",
   "mimetype": "text/x-python",
   "name": "python",
   "nbconvert_exporter": "python",
   "pygments_lexer": "ipython3",
   "version": "3.12.5"
  }
 },
 "nbformat": 4,
 "nbformat_minor": 5
}
