{
 "cells": [
  {
   "cell_type": "code",
   "execution_count": 1,
   "id": "7875fe4c-5632-464a-9e57-ffd1cfcb76e1",
   "metadata": {},
   "outputs": [],
   "source": [
    "from MainClassMovie import MainClassMovie, MoviesGenere"
   ]
  },
  {
   "cell_type": "code",
   "execution_count": 2,
   "id": "ab5ec829-70b3-4dc0-843b-94a5e9f860e4",
   "metadata": {},
   "outputs": [],
   "source": [
    "#esto es de ejemplo\n",
    "class MovieDataQuery(MainClassMovie):\n",
    "    def __init__(self):\n",
    "        super().__init__()\n",
    "\n",
    "    def print_details(self):\n",
    "        # Accede a los atributos heredados de la clase padre\n",
    "        print(f\"URL Base: {self.getUrlBase()}\")\n",
    "        print(f\"API Key: {self.getKey()}\")"
   ]
  },
  {
   "cell_type": "code",
   "execution_count": 3,
   "id": "0a629323-bdd6-499e-9fb2-8d601fc55404",
   "metadata": {},
   "outputs": [
    {
     "name": "stdout",
     "output_type": "stream",
     "text": [
      "[{'id': 28, 'name': 'Acción'}, {'id': 12, 'name': 'Aventura'}, {'id': 16, 'name': 'Animación'}, {'id': 35, 'name': 'Comedia'}, {'id': 80, 'name': 'Crimen'}, {'id': 99, 'name': 'Documental'}, {'id': 18, 'name': 'Drama'}, {'id': 10751, 'name': 'Familia'}, {'id': 14, 'name': 'Fantasía'}, {'id': 36, 'name': 'Historia'}, {'id': 27, 'name': 'Terror'}, {'id': 10402, 'name': 'Música'}, {'id': 9648, 'name': 'Misterio'}, {'id': 10749, 'name': 'Romance'}, {'id': 878, 'name': 'Ciencia ficción'}, {'id': 10770, 'name': 'Película de TV'}, {'id': 53, 'name': 'Suspense'}, {'id': 10752, 'name': 'Bélica'}, {'id': 37, 'name': 'Western'}]\n"
     ]
    }
   ],
   "source": [
    "generos = MoviesGenere()\n",
    "gi = generos.getGenderMovies()\n",
    "print(gi)\n"
   ]
  },
  {
   "cell_type": "code",
   "execution_count": 4,
   "id": "08bdc455",
   "metadata": {},
   "outputs": [
    {
     "name": "stdout",
     "output_type": "stream",
     "text": [
      "Géneros heredados desde MoviesGenere:\n",
      "[{'id': 28, 'name': 'Acción'}, {'id': 12, 'name': 'Aventura'}, {'id': 16, 'name': 'Animación'}, {'id': 35, 'name': 'Comedia'}, {'id': 80, 'name': 'Crimen'}, {'id': 99, 'name': 'Documental'}, {'id': 18, 'name': 'Drama'}, {'id': 10751, 'name': 'Familia'}, {'id': 14, 'name': 'Fantasía'}, {'id': 36, 'name': 'Historia'}, {'id': 27, 'name': 'Terror'}, {'id': 10402, 'name': 'Música'}, {'id': 9648, 'name': 'Misterio'}, {'id': 10749, 'name': 'Romance'}, {'id': 878, 'name': 'Ciencia ficción'}, {'id': 10770, 'name': 'Película de TV'}, {'id': 53, 'name': 'Suspense'}, {'id': 10752, 'name': 'Bélica'}, {'id': 37, 'name': 'Western'}]\n"
     ]
    }
   ],
   "source": [
    "class Genere(MoviesGenere):\n",
    "    def __init__(self):\n",
    "        super().__init__()\n",
    "\n",
    "    def printStoredGenres(self):\n",
    "        print(\"Géneros heredados desde MoviesGenere:\")\n",
    "        print(self.generos)\n",
    "\n",
    "\n",
    "# Crear una instancia de la clase hija\n",
    "movies_by_genre = Genere()\n",
    "# Llamar al método de la clase padre para obtener y almacenar los géneros\n",
    "movies_by_genre.getGenderMovies()\n",
    "# Acceder e imprimir los géneros desde la clase hija\n",
    "movies_by_genre.printStoredGenres()\n",
    "\n",
    "#https://api.themoviedb.org/3/genre/28/movies?api_key=tu_api_key&language=es-ES&page=1\n"
   ]
  }
 ],
 "metadata": {
  "kernelspec": {
   "display_name": "Python 3",
   "language": "python",
   "name": "python3"
  },
  "language_info": {
   "codemirror_mode": {
    "name": "ipython",
    "version": 3
   },
   "file_extension": ".py",
   "mimetype": "text/x-python",
   "name": "python",
   "nbconvert_exporter": "python",
   "pygments_lexer": "ipython3",
   "version": "3.12.5"
  }
 },
 "nbformat": 4,
 "nbformat_minor": 5
}
