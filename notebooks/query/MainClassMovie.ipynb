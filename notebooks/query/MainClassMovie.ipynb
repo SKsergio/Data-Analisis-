{
 "cells": [
  {
   "cell_type": "code",
   "execution_count": null,
   "id": "7875fe4c-5632-464a-9e57-ffd1cfcb76e1",
   "metadata": {},
   "outputs": [
    {
     "name": "stdout",
     "output_type": "stream",
     "text": [
      "https://api.themoviedb.org/3/\n",
      "56730a8114515a93bf2ec1a7448fcae0\n",
      "56730a8114515a93bf2ec1a7448fcae0\n"
     ]
    }
   ],
   "source": [
    "#clase padre, esta tendra la url base sobre la cual giraran las consultas que hagamos a la BD\n",
    "class MainClassMovie:\n",
    "    url_base = 'https://api.themoviedb.org/3/'\n",
    "    API_key = '56730a8114515a93bf2ec1a7448fcae0'\n",
    "\n",
    "    #devolver la url y la api key\n",
    "    def getUrlBase(self):\n",
    "        return self.url_base\n",
    "        \n",
    "    def getKey(self):\n",
    "        return self.API_key\n",
    "    \n",
    "varibale1 = MainClassMovie()\n",
    "\n",
    "print(varibale1.getUrlBase())\n"
   ]
  },
  {
   "cell_type": "code",
   "execution_count": null,
   "id": "ab5ec829-70b3-4dc0-843b-94a5e9f860e4",
   "metadata": {},
   "outputs": [],
   "source": []
  },
  {
   "cell_type": "code",
   "execution_count": null,
   "id": "0a629323-bdd6-499e-9fb2-8d601fc55404",
   "metadata": {},
   "outputs": [],
   "source": []
  }
 ],
 "metadata": {
  "kernelspec": {
   "display_name": "Python 3",
   "language": "python",
   "name": "python3"
  },
  "language_info": {
   "codemirror_mode": {
    "name": "ipython",
    "version": 3
   },
   "file_extension": ".py",
   "mimetype": "text/x-python",
   "name": "python",
   "nbconvert_exporter": "python",
   "pygments_lexer": "ipython3",
   "version": "3.12.5"
  }
 },
 "nbformat": 4,
 "nbformat_minor": 5
}
