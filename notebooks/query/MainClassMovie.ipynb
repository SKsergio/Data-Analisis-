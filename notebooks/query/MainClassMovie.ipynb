{
 "cells": [
  {
   "cell_type": "code",
   "execution_count": 8,
   "id": "7875fe4c-5632-464a-9e57-ffd1cfcb76e1",
   "metadata": {},
   "outputs": [],
   "source": [
    "# clase padre, esta tendra la url base sobre la cual giraran las consultas que hagamos a la BD\n",
    "class MainClassMovie:\n",
    "    url_base = \"https://api.themoviedb.org/3/\"\n",
    "    API_key = \"56730a8114515a93bf2ec1a7448fcae0\"\n",
    "\n",
    "    # devolver la url y la api key\n",
    "    def getUrlBase(self):\n",
    "        return self.url_base\n",
    "\n",
    "    def getKey(self):\n",
    "        return self.API_key\n",
    "\n",
    "\n",
    "# varibale1 = MainClassMovie()\n",
    "# print(varibale1.getUrlBase())\n"
   ]
  },
  {
   "cell_type": "code",
   "execution_count": 9,
   "id": "ab5ec829-70b3-4dc0-843b-94a5e9f860e4",
   "metadata": {},
   "outputs": [
    {
     "name": "stdout",
     "output_type": "stream",
     "text": [
      "URL Base: https://api.themoviedb.org/3/\n",
      "API Key: 56730a8114515a93bf2ec1a7448fcae0\n"
     ]
    }
   ],
   "source": [
    "class MovieDataQuery(MainClassMovie):\n",
    "    def __init__(self):\n",
    "        super().__init__()\n",
    "\n",
    "    def print_details(self):\n",
    "        # Accede a los atributos heredados de la clase padre\n",
    "        print(f\"URL Base: {self.getUrlBase()}\")\n",
    "        print(f\"API Key: {self.getKey()}\")\n",
    "\n",
    "\n",
    "# Uso de la clase hija\n",
    "movie_query = MovieDataQuery()\n",
    "movie_query.print_details()"
   ]
  },
  {
   "cell_type": "code",
   "execution_count": 27,
   "id": "0a629323-bdd6-499e-9fb2-8d601fc55404",
   "metadata": {},
   "outputs": [
    {
     "name": "stdout",
     "output_type": "stream",
     "text": [
      "Consultando géneros desde: https://api.themoviedb.org/3/genre/movie/list\n",
      "Géneros obtenidos y almacenados:\n",
      "[{'id': 28, 'name': 'Acción'}, {'id': 12, 'name': 'Aventura'}, {'id': 16, 'name': 'Animación'}, {'id': 35, 'name': 'Comedia'}, {'id': 80, 'name': 'Crimen'}, {'id': 99, 'name': 'Documental'}, {'id': 18, 'name': 'Drama'}, {'id': 10751, 'name': 'Familia'}, {'id': 14, 'name': 'Fantasía'}, {'id': 36, 'name': 'Historia'}, {'id': 27, 'name': 'Terror'}, {'id': 10402, 'name': 'Música'}, {'id': 9648, 'name': 'Misterio'}, {'id': 10749, 'name': 'Romance'}, {'id': 878, 'name': 'Ciencia ficción'}, {'id': 10770, 'name': 'Película de TV'}, {'id': 53, 'name': 'Suspense'}, {'id': 10752, 'name': 'Bélica'}, {'id': 37, 'name': 'Western'}]\n"
     ]
    }
   ],
   "source": [
    "import requests\n",
    "import pandas as pd\n",
    "\n",
    "class MoviesGenere(MainClassMovie):\n",
    "    def __init__(self):\n",
    "        super().__init__()\n",
    "        self.generos = []  # Atributo para almacenar los géneros\n",
    "\n",
    "    def getMoviesByGenere(self):\n",
    "        Url = self.getUrlBase()\n",
    "        key = self.getKey()\n",
    "        params = {\"api_key\": key, \"language\": \"es-ES\"}\n",
    "        url_final = f\"{Url}genre/movie/list\"\n",
    "\n",
    "        print(f\"Consultando géneros desde: {url_final}\")\n",
    "\n",
    "        response = requests.get(url_final, params=params)\n",
    "\n",
    "        if response.status_code == 200:\n",
    "            data = response.json()\n",
    "            self.generos = data[\"genres\"]  # Almacena los géneros en el atributo global\n",
    "            print(\"Géneros obtenidos y almacenados:\")\n",
    "            print(self.generos)\n",
    "        else:\n",
    "            print(f\"Error al obtener los géneros: {response.status_code}\")\n",
    "\n",
    "        def getStoredGenres(self):\n",
    "            \"\"\"Método para acceder a los géneros almacenados.\"\"\"\n",
    "            return self.generos\n",
    "\n",
    "generos = MoviesGenere()\n",
    "generos.getMoviesByGenere()\n"
   ]
  },
  {
   "cell_type": "code",
   "execution_count": null,
   "id": "08bdc455",
   "metadata": {},
   "outputs": [
    {
     "name": "stdout",
     "output_type": "stream",
     "text": [
      "Consultando géneros desde: https://api.themoviedb.org/3/genre/movie/list\n",
      "Géneros obtenidos y almacenados:\n",
      "[{'id': 28, 'name': 'Acción'}, {'id': 12, 'name': 'Aventura'}, {'id': 16, 'name': 'Animación'}, {'id': 35, 'name': 'Comedia'}, {'id': 80, 'name': 'Crimen'}, {'id': 99, 'name': 'Documental'}, {'id': 18, 'name': 'Drama'}, {'id': 10751, 'name': 'Familia'}, {'id': 14, 'name': 'Fantasía'}, {'id': 36, 'name': 'Historia'}, {'id': 27, 'name': 'Terror'}, {'id': 10402, 'name': 'Música'}, {'id': 9648, 'name': 'Misterio'}, {'id': 10749, 'name': 'Romance'}, {'id': 878, 'name': 'Ciencia ficción'}, {'id': 10770, 'name': 'Película de TV'}, {'id': 53, 'name': 'Suspense'}, {'id': 10752, 'name': 'Bélica'}, {'id': 37, 'name': 'Western'}]\n",
      "Géneros heredados desde MoviesGenere:\n",
      "[{'id': 28, 'name': 'Acción'}, {'id': 12, 'name': 'Aventura'}, {'id': 16, 'name': 'Animación'}, {'id': 35, 'name': 'Comedia'}, {'id': 80, 'name': 'Crimen'}, {'id': 99, 'name': 'Documental'}, {'id': 18, 'name': 'Drama'}, {'id': 10751, 'name': 'Familia'}, {'id': 14, 'name': 'Fantasía'}, {'id': 36, 'name': 'Historia'}, {'id': 27, 'name': 'Terror'}, {'id': 10402, 'name': 'Música'}, {'id': 9648, 'name': 'Misterio'}, {'id': 10749, 'name': 'Romance'}, {'id': 878, 'name': 'Ciencia ficción'}, {'id': 10770, 'name': 'Película de TV'}, {'id': 53, 'name': 'Suspense'}, {'id': 10752, 'name': 'Bélica'}, {'id': 37, 'name': 'Western'}]\n"
     ]
    }
   ],
   "source": [
    "class Genere(MoviesGenere):\n",
    "    def __init__(self):\n",
    "        super().__init__()\n",
    "\n",
    "    def printStoredGenres(self):\n",
    "        print(\"Géneros heredados desde MoviesGenere:\")\n",
    "        print(self.generos)\n",
    "\n",
    "    def getInfoByGenere():\n",
    "        \n",
    "    https://api.themoviedb.org/3/genre/28/movies?api_key=tu_api_key&language=es-ES&page=1\n",
    "\n",
    "\n",
    "# Crear una instancia de la clase hija\n",
    "movies_by_genre = Genere()\n",
    "# Llamar al método de la clase padre para obtener y almacenar los géneros\n",
    "movies_by_genre.getMoviesByGenere()\n",
    "# Acceder e imprimir los géneros desde la clase hija\n",
    "movies_by_genre.printStoredGenres()\n",
    "\n",
    "https://api.themoviedb.org/3/genre/28/movies?api_key=tu_api_key&language=es-ES&page=1\n"
   ]
  }
 ],
 "metadata": {
  "kernelspec": {
   "display_name": "Python 3",
   "language": "python",
   "name": "python3"
  },
  "language_info": {
   "codemirror_mode": {
    "name": "ipython",
    "version": 3
   },
   "file_extension": ".py",
   "mimetype": "text/x-python",
   "name": "python",
   "nbconvert_exporter": "python",
   "pygments_lexer": "ipython3",
   "version": "3.12.5"
  }
 },
 "nbformat": 4,
 "nbformat_minor": 5
}
