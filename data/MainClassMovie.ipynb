{
 "cells": [
  {
   "cell_type": "code",
   "execution_count": null,
   "id": "7875fe4c-5632-464a-9e57-ffd1cfcb76e1",
   "metadata": {},
   "outputs": [],
   "source": [
    "#clase padre, esta tendra la url base sobre la cual giraran las consultas que hagamos a la BD\n",
    "class MovieDataMain:\n",
    "    url_base = 'https://api.themoviedb.org/3/'\n",
    "    API_key = '56730a8114515a93bf2ec1a7448fcae0'\n",
    "\n",
    "    #metodo constructor\n",
    "    def __init__(self, url_base,API_key):\n",
    "        self.url_base = url_base\n",
    "        self.API_key = API_key\n",
    "\n",
    "    #devolver la url y la api key\n",
    "    def getUrlBase():\n",
    "        return self.url_base\n",
    "        \n",
    "    def getUrlBase():\n",
    "        return self.API_key"
   ]
  },
  {
   "cell_type": "code",
   "execution_count": null,
   "id": "ab5ec829-70b3-4dc0-843b-94a5e9f860e4",
   "metadata": {},
   "outputs": [],
   "source": []
  }
 ],
 "metadata": {
  "kernelspec": {
   "display_name": "Python 3 (ipykernel)",
   "language": "python",
   "name": "python3"
  },
  "language_info": {
   "codemirror_mode": {
    "name": "ipython",
    "version": 3
   },
   "file_extension": ".py",
   "mimetype": "text/x-python",
   "name": "python",
   "nbconvert_exporter": "python",
   "pygments_lexer": "ipython3",
   "version": "3.12.5"
  }
 },
 "nbformat": 4,
 "nbformat_minor": 5
}
