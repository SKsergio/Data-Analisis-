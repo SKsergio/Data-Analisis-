{
  "metadata": {
    "kernelspec": {
      "name": "python",
      "display_name": "Python (Pyodide)",
      "language": "python"
    },
    "language_info": {
      "codemirror_mode": {
        "name": "python",
        "version": 3
      },
      "file_extension": ".py",
      "mimetype": "text/x-python",
      "name": "python",
      "nbconvert_exporter": "python",
      "pygments_lexer": "ipython3",
      "version": "3.8"
    }
  },
  "nbformat_minor": 4,
  "nbformat": 4,
  "cells": [
    {
      "cell_type": "code",
      "source": "import requests\nimport pandas as pd\n\napi_key = \"d4b24eade6c385f385d5f9d8c4b14854\"\nurl = \"https://api.themoviedb.org/3/discover/movie\"\n\n# Fecha específica\nfecha = \"2024-12-09\"\nparams = {\n    \"api_key\": api_key,\n    \"primary_release_date.gte\": fecha,\n    \"primary_release_date.lte\": fecha,\n    \"sort_by\": \"popularity.desc\"\n}\n\n# Llamada\nresponse = requests.get(url, params=params)\n\nif response.status_code == 200:\n    data = response.json()\n    peliculas = data['results']\n    df = pd.DataFrame(peliculas)[[\"title\", \"popularity\", \"release_date\"]]\n    print(\"Películas más populares en la fecha específica:\")\n    display(df)\nelse:\n    print(f\"Error al obtener datos: {response.status_code}\")\n",
      "metadata": {
        "trusted": true
      },
      "outputs": [
        {
          "name": "stdout",
          "text": "Películas más populares en la fecha específica:\n",
          "output_type": "stream"
        },
        {
          "output_type": "display_data",
          "data": {
            "text/plain": "                                      title  popularity release_date\n0                                    Utopia      27.733   2024-12-09\n1                    Aku Tak Membenci Hujan      26.803   2024-12-09\n2         Nan Goldin – I Remember Your Face      25.158   2024-12-09\n3                           How to Blend In      24.977   2024-12-09\n4                           Bleib doch noch      24.876   2024-12-09\n5                                Fragmentos      24.851   2024-12-09\n6                       Behind the Ringtone      24.708   2024-12-09\n7         Normas para una página de sucesos      24.077   2024-12-09\n8                     'Til Death Do Us Part      23.563   2024-12-09\n9   Raízes de Liberdade: Histórias Apagadas      23.462   2024-12-09\n10                               Snow White      23.340   2024-12-09\n11                                 Lavender      23.332   2024-12-09\n12                            Luna en Obras      23.271   2024-12-09\n13             A Punch in the Gut of a Star      23.263   2024-12-09\n14                                 Desfaces      23.165   2024-12-09\n15                        Predict My Future      22.591   2024-12-09\n16                  A un paso de la soledad      12.072   2024-12-09\n17                        Arctic Armageddon       9.226   2024-12-09\n18                                 Carcarás       7.531   2024-12-09\n19             in heaven there are no shoes       1.960   2024-12-09",
            "text/html": "<div>\n<style scoped>\n    .dataframe tbody tr th:only-of-type {\n        vertical-align: middle;\n    }\n\n    .dataframe tbody tr th {\n        vertical-align: top;\n    }\n\n    .dataframe thead th {\n        text-align: right;\n    }\n</style>\n<table border=\"1\" class=\"dataframe\">\n  <thead>\n    <tr style=\"text-align: right;\">\n      <th></th>\n      <th>title</th>\n      <th>popularity</th>\n      <th>release_date</th>\n    </tr>\n  </thead>\n  <tbody>\n    <tr>\n      <th>0</th>\n      <td>Utopia</td>\n      <td>27.733</td>\n      <td>2024-12-09</td>\n    </tr>\n    <tr>\n      <th>1</th>\n      <td>Aku Tak Membenci Hujan</td>\n      <td>26.803</td>\n      <td>2024-12-09</td>\n    </tr>\n    <tr>\n      <th>2</th>\n      <td>Nan Goldin – I Remember Your Face</td>\n      <td>25.158</td>\n      <td>2024-12-09</td>\n    </tr>\n    <tr>\n      <th>3</th>\n      <td>How to Blend In</td>\n      <td>24.977</td>\n      <td>2024-12-09</td>\n    </tr>\n    <tr>\n      <th>4</th>\n      <td>Bleib doch noch</td>\n      <td>24.876</td>\n      <td>2024-12-09</td>\n    </tr>\n    <tr>\n      <th>5</th>\n      <td>Fragmentos</td>\n      <td>24.851</td>\n      <td>2024-12-09</td>\n    </tr>\n    <tr>\n      <th>6</th>\n      <td>Behind the Ringtone</td>\n      <td>24.708</td>\n      <td>2024-12-09</td>\n    </tr>\n    <tr>\n      <th>7</th>\n      <td>Normas para una página de sucesos</td>\n      <td>24.077</td>\n      <td>2024-12-09</td>\n    </tr>\n    <tr>\n      <th>8</th>\n      <td>'Til Death Do Us Part</td>\n      <td>23.563</td>\n      <td>2024-12-09</td>\n    </tr>\n    <tr>\n      <th>9</th>\n      <td>Raízes de Liberdade: Histórias Apagadas</td>\n      <td>23.462</td>\n      <td>2024-12-09</td>\n    </tr>\n    <tr>\n      <th>10</th>\n      <td>Snow White</td>\n      <td>23.340</td>\n      <td>2024-12-09</td>\n    </tr>\n    <tr>\n      <th>11</th>\n      <td>Lavender</td>\n      <td>23.332</td>\n      <td>2024-12-09</td>\n    </tr>\n    <tr>\n      <th>12</th>\n      <td>Luna en Obras</td>\n      <td>23.271</td>\n      <td>2024-12-09</td>\n    </tr>\n    <tr>\n      <th>13</th>\n      <td>A Punch in the Gut of a Star</td>\n      <td>23.263</td>\n      <td>2024-12-09</td>\n    </tr>\n    <tr>\n      <th>14</th>\n      <td>Desfaces</td>\n      <td>23.165</td>\n      <td>2024-12-09</td>\n    </tr>\n    <tr>\n      <th>15</th>\n      <td>Predict My Future</td>\n      <td>22.591</td>\n      <td>2024-12-09</td>\n    </tr>\n    <tr>\n      <th>16</th>\n      <td>A un paso de la soledad</td>\n      <td>12.072</td>\n      <td>2024-12-09</td>\n    </tr>\n    <tr>\n      <th>17</th>\n      <td>Arctic Armageddon</td>\n      <td>9.226</td>\n      <td>2024-12-09</td>\n    </tr>\n    <tr>\n      <th>18</th>\n      <td>Carcarás</td>\n      <td>7.531</td>\n      <td>2024-12-09</td>\n    </tr>\n    <tr>\n      <th>19</th>\n      <td>in heaven there are no shoes</td>\n      <td>1.960</td>\n      <td>2024-12-09</td>\n    </tr>\n  </tbody>\n</table>\n</div>"
          },
          "metadata": {}
        }
      ],
      "execution_count": 4
    },
    {
      "cell_type": "code",
      "source": "# Comparacion de tendencias\ngeneros = {\n    \"Acción\": 28,\n    \"Comedia\": 35,\n    \"Drama\": 18\n}\nperiodos = [\"2023-01-01\", \"2023-12-31\"]  #  fechas y rango de ellas\n\n# Resultados por género\nresultados = []\nfor genero, id_genero in generos.items():\n    params = {\n        \"api_key\": api_key,\n        \"with_genres\": id_genero,\n        \"primary_release_date.gte\": periodos[0],\n        \"primary_release_date.lte\": periodos[1],\n        \"sort_by\": \"popularity.desc\"\n    }\n    response = requests.get(url, params=params)\n    if response.status_code == 200:\n        data = response.json()\n        popularidad_total = sum(p[\"popularity\"] for p in data[\"results\"])\n        resultados.append({\"Género\": genero, \"Popularidad Total\": popularidad_total})\n    else:\n        print(f\"Error para el género {genero}: {response.status_code}\")\n\ndf_tendencias = pd.DataFrame(resultados)\nprint(\"Tendencias de popularidad entre géneros:\")\ndisplay(df_tendencias)\n",
      "metadata": {
        "trusted": true
      },
      "outputs": [
        {
          "name": "stdout",
          "text": "Tendencias de popularidad entre géneros:\n",
          "output_type": "stream"
        },
        {
          "output_type": "display_data",
          "data": {
            "text/plain": "    Género  Popularidad Total\n0   Acción           3406.711\n1  Comedia           2757.908\n2    Drama           2450.962",
            "text/html": "<div>\n<style scoped>\n    .dataframe tbody tr th:only-of-type {\n        vertical-align: middle;\n    }\n\n    .dataframe tbody tr th {\n        vertical-align: top;\n    }\n\n    .dataframe thead th {\n        text-align: right;\n    }\n</style>\n<table border=\"1\" class=\"dataframe\">\n  <thead>\n    <tr style=\"text-align: right;\">\n      <th></th>\n      <th>Género</th>\n      <th>Popularidad Total</th>\n    </tr>\n  </thead>\n  <tbody>\n    <tr>\n      <th>0</th>\n      <td>Acción</td>\n      <td>3406.711</td>\n    </tr>\n    <tr>\n      <th>1</th>\n      <td>Comedia</td>\n      <td>2757.908</td>\n    </tr>\n    <tr>\n      <th>2</th>\n      <td>Drama</td>\n      <td>2450.962</td>\n    </tr>\n  </tbody>\n</table>\n</div>"
          },
          "metadata": {}
        }
      ],
      "execution_count": 5
    },
    {
      "cell_type": "code",
      "source": "# Endpoint para sacar todos los géneros\nurl_generos = \"https://api.themoviedb.org/3/genre/movie/list\"\nparams = {\"api_key\": api_key, \"language\": \"es-ES\"}\nresponse = requests.get(url_generos, params=params)\n\nif response.status_code == 200:\n    data = response.json()\n    generos = data[\"genres\"]\n    df_generos = pd.DataFrame(generos)\n    print(\"Géneros más frecuentes en el catálogo:\")\n    display(df_generos)\nelse:\n    print(f\"Error al obtener los géneros: {response.status_code}\")\n",
      "metadata": {
        "trusted": true
      },
      "outputs": [
        {
          "name": "stdout",
          "text": "Géneros más frecuentes en el catálogo:\n",
          "output_type": "stream"
        },
        {
          "output_type": "display_data",
          "data": {
            "text/plain": "       id             name\n0      28           Acción\n1      12         Aventura\n2      16        Animación\n3      35          Comedia\n4      80           Crimen\n5      99       Documental\n6      18            Drama\n7   10751          Familia\n8      14         Fantasía\n9      36         Historia\n10     27           Terror\n11  10402           Música\n12   9648         Misterio\n13  10749          Romance\n14    878  Ciencia ficción\n15  10770   Película de TV\n16     53         Suspense\n17  10752           Bélica\n18     37          Western",
            "text/html": "<div>\n<style scoped>\n    .dataframe tbody tr th:only-of-type {\n        vertical-align: middle;\n    }\n\n    .dataframe tbody tr th {\n        vertical-align: top;\n    }\n\n    .dataframe thead th {\n        text-align: right;\n    }\n</style>\n<table border=\"1\" class=\"dataframe\">\n  <thead>\n    <tr style=\"text-align: right;\">\n      <th></th>\n      <th>id</th>\n      <th>name</th>\n    </tr>\n  </thead>\n  <tbody>\n    <tr>\n      <th>0</th>\n      <td>28</td>\n      <td>Acción</td>\n    </tr>\n    <tr>\n      <th>1</th>\n      <td>12</td>\n      <td>Aventura</td>\n    </tr>\n    <tr>\n      <th>2</th>\n      <td>16</td>\n      <td>Animación</td>\n    </tr>\n    <tr>\n      <th>3</th>\n      <td>35</td>\n      <td>Comedia</td>\n    </tr>\n    <tr>\n      <th>4</th>\n      <td>80</td>\n      <td>Crimen</td>\n    </tr>\n    <tr>\n      <th>5</th>\n      <td>99</td>\n      <td>Documental</td>\n    </tr>\n    <tr>\n      <th>6</th>\n      <td>18</td>\n      <td>Drama</td>\n    </tr>\n    <tr>\n      <th>7</th>\n      <td>10751</td>\n      <td>Familia</td>\n    </tr>\n    <tr>\n      <th>8</th>\n      <td>14</td>\n      <td>Fantasía</td>\n    </tr>\n    <tr>\n      <th>9</th>\n      <td>36</td>\n      <td>Historia</td>\n    </tr>\n    <tr>\n      <th>10</th>\n      <td>27</td>\n      <td>Terror</td>\n    </tr>\n    <tr>\n      <th>11</th>\n      <td>10402</td>\n      <td>Música</td>\n    </tr>\n    <tr>\n      <th>12</th>\n      <td>9648</td>\n      <td>Misterio</td>\n    </tr>\n    <tr>\n      <th>13</th>\n      <td>10749</td>\n      <td>Romance</td>\n    </tr>\n    <tr>\n      <th>14</th>\n      <td>878</td>\n      <td>Ciencia ficción</td>\n    </tr>\n    <tr>\n      <th>15</th>\n      <td>10770</td>\n      <td>Película de TV</td>\n    </tr>\n    <tr>\n      <th>16</th>\n      <td>53</td>\n      <td>Suspense</td>\n    </tr>\n    <tr>\n      <th>17</th>\n      <td>10752</td>\n      <td>Bélica</td>\n    </tr>\n    <tr>\n      <th>18</th>\n      <td>37</td>\n      <td>Western</td>\n    </tr>\n  </tbody>\n</table>\n</div>"
          },
          "metadata": {}
        }
      ],
      "execution_count": 7
    },
    {
      "cell_type": "code",
      "source": "# Género específico\nid_genero = 28  # id del genero Accion\n\nparams = {\n    \"api_key\": api_key,\n    \"with_genres\": id_genero,\n    \"sort_by\": \"vote_average.desc\",\n    \"vote_count.gte\": 50  # Quita peliculas con muy pocas votaciones\n}\n\nresponse = requests.get(url, params=params)\n\nif response.status_code == 200:\n    data = response.json()\n    peliculas = data['results']\n    df_mejor_rankeadas = pd.DataFrame(peliculas)[[\"title\", \"vote_average\", \"release_date\"]]\n    print(\"Películas mejor rankeadas en el género especificado:\")\n    display(df_mejor_rankeadas)\nelse:\n    print(f\"Error al obtener películas mejor rankeadas: {response.status_code}\")\n",
      "metadata": {
        "trusted": true,
        "scrolled": true
      },
      "outputs": [
        {
          "name": "stdout",
          "text": "Películas mejor rankeadas en el género especificado:\n",
          "output_type": "stream"
        },
        {
          "output_type": "display_data",
          "data": {
            "text/plain": "                                                title  vote_average  \\\n0                                           Kill Shot         9.300   \n1                                     The Dark Knight         8.500   \n2                                            Underdog         8.500   \n3       The Lord of the Rings: The Return of the King         8.482   \n4                                       Seven Samurai         8.500   \n5                                             Setback         8.400   \n6   The Lord of the Rings: The Fellowship of the Ring         8.416   \n7                           Primal: Tales of Savagery         8.403   \n8                                            Harakiri         8.400   \n9                   Spider-Man: Into the Spider-Verse         8.399   \n10              The Lord of the Rings: The Two Towers         8.400   \n11                               Blindsided: The Game         8.400   \n12                                     The Wild Robot         8.400   \n13                            The Empire Strikes Back         8.400   \n14                                  The Legend of Hei         8.372   \n15                                          Inception         8.400   \n16  My Little Pony: Equestria Girls - Spring Break...         8.400   \n17                Spider-Man: Across the Spider-Verse         8.354   \n18     Neon Genesis Evangelion: The End of Evangelion         8.307   \n19                             Léon: The Professional         8.306   \n\n   release_date  \n0    2023-08-15  \n1    2008-07-16  \n2    2024-04-25  \n3    2003-12-17  \n4    1954-04-26  \n5    2011-01-01  \n6    2001-12-18  \n7    2019-11-21  \n8    1962-09-15  \n9    2018-12-06  \n10   2002-12-18  \n11   2018-05-16  \n12   2024-09-08  \n13   1980-05-20  \n14   2019-08-27  \n15   2010-07-15  \n16   2019-03-30  \n17   2023-05-31  \n18   1997-07-19  \n19   1994-09-14  ",
            "text/html": "<div>\n<style scoped>\n    .dataframe tbody tr th:only-of-type {\n        vertical-align: middle;\n    }\n\n    .dataframe tbody tr th {\n        vertical-align: top;\n    }\n\n    .dataframe thead th {\n        text-align: right;\n    }\n</style>\n<table border=\"1\" class=\"dataframe\">\n  <thead>\n    <tr style=\"text-align: right;\">\n      <th></th>\n      <th>title</th>\n      <th>vote_average</th>\n      <th>release_date</th>\n    </tr>\n  </thead>\n  <tbody>\n    <tr>\n      <th>0</th>\n      <td>Kill Shot</td>\n      <td>9.300</td>\n      <td>2023-08-15</td>\n    </tr>\n    <tr>\n      <th>1</th>\n      <td>The Dark Knight</td>\n      <td>8.500</td>\n      <td>2008-07-16</td>\n    </tr>\n    <tr>\n      <th>2</th>\n      <td>Underdog</td>\n      <td>8.500</td>\n      <td>2024-04-25</td>\n    </tr>\n    <tr>\n      <th>3</th>\n      <td>The Lord of the Rings: The Return of the King</td>\n      <td>8.482</td>\n      <td>2003-12-17</td>\n    </tr>\n    <tr>\n      <th>4</th>\n      <td>Seven Samurai</td>\n      <td>8.500</td>\n      <td>1954-04-26</td>\n    </tr>\n    <tr>\n      <th>5</th>\n      <td>Setback</td>\n      <td>8.400</td>\n      <td>2011-01-01</td>\n    </tr>\n    <tr>\n      <th>6</th>\n      <td>The Lord of the Rings: The Fellowship of the Ring</td>\n      <td>8.416</td>\n      <td>2001-12-18</td>\n    </tr>\n    <tr>\n      <th>7</th>\n      <td>Primal: Tales of Savagery</td>\n      <td>8.403</td>\n      <td>2019-11-21</td>\n    </tr>\n    <tr>\n      <th>8</th>\n      <td>Harakiri</td>\n      <td>8.400</td>\n      <td>1962-09-15</td>\n    </tr>\n    <tr>\n      <th>9</th>\n      <td>Spider-Man: Into the Spider-Verse</td>\n      <td>8.399</td>\n      <td>2018-12-06</td>\n    </tr>\n    <tr>\n      <th>10</th>\n      <td>The Lord of the Rings: The Two Towers</td>\n      <td>8.400</td>\n      <td>2002-12-18</td>\n    </tr>\n    <tr>\n      <th>11</th>\n      <td>Blindsided: The Game</td>\n      <td>8.400</td>\n      <td>2018-05-16</td>\n    </tr>\n    <tr>\n      <th>12</th>\n      <td>The Wild Robot</td>\n      <td>8.400</td>\n      <td>2024-09-08</td>\n    </tr>\n    <tr>\n      <th>13</th>\n      <td>The Empire Strikes Back</td>\n      <td>8.400</td>\n      <td>1980-05-20</td>\n    </tr>\n    <tr>\n      <th>14</th>\n      <td>The Legend of Hei</td>\n      <td>8.372</td>\n      <td>2019-08-27</td>\n    </tr>\n    <tr>\n      <th>15</th>\n      <td>Inception</td>\n      <td>8.400</td>\n      <td>2010-07-15</td>\n    </tr>\n    <tr>\n      <th>16</th>\n      <td>My Little Pony: Equestria Girls - Spring Break...</td>\n      <td>8.400</td>\n      <td>2019-03-30</td>\n    </tr>\n    <tr>\n      <th>17</th>\n      <td>Spider-Man: Across the Spider-Verse</td>\n      <td>8.354</td>\n      <td>2023-05-31</td>\n    </tr>\n    <tr>\n      <th>18</th>\n      <td>Neon Genesis Evangelion: The End of Evangelion</td>\n      <td>8.307</td>\n      <td>1997-07-19</td>\n    </tr>\n    <tr>\n      <th>19</th>\n      <td>Léon: The Professional</td>\n      <td>8.306</td>\n      <td>1994-09-14</td>\n    </tr>\n  </tbody>\n</table>\n</div>"
          },
          "metadata": {}
        }
      ],
      "execution_count": 8
    },
    {
      "cell_type": "code",
      "source": "",
      "metadata": {
        "trusted": true
      },
      "outputs": [],
      "execution_count": null
    }
  ]
}